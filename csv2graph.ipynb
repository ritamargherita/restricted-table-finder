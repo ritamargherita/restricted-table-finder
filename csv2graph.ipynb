{
 "cells": [
  {
   "cell_type": "code",
   "execution_count": 1,
   "id": "6bfc274d",
   "metadata": {},
   "outputs": [],
   "source": [
    "# import packages and libraries\n",
    "import hashlib\n",
    "import os\n",
    "import pandas as pd\n",
    "import rdflib\n",
    "import shutil\n",
    "\n",
    "from rdflib import RDF, RDFS, XSD, DCTERMS, SKOS, OWL, DCAT, Literal, Graph, Namespace, URIRef, BNode"
   ]
  },
  {
   "cell_type": "code",
   "execution_count": 2,
   "id": "5ffd80d0",
   "metadata": {},
   "outputs": [],
   "source": [
    "def create_dataset_uri(file_name: str) -> str:\n",
    "    \"\"\"\n",
    "    create_dataset_uri\n",
    "    \n",
    "    Returns a 'made-up' URI for the dataset\n",
    "    \n",
    "    INPUTS:\n",
    "        file_name - the file name as a string\n",
    "        \n",
    "    OUTPUTS:\n",
    "        dataset_uri - the URI for the dataset as a string\n",
    "        \n",
    "    \"\"\"\n",
    "    \n",
    "    dataset_uri = \"http://www.example.org/\" + file_name + \"/\"\n",
    "    \n",
    "    return dataset_uri"
   ]
  },
  {
   "cell_type": "code",
   "execution_count": 3,
   "id": "f2cda0fb",
   "metadata": {},
   "outputs": [],
   "source": [
    "def create_dataset_title(file_name: str) -> str:\n",
    "    \"\"\"\n",
    "    create_dataset_title\n",
    "    \n",
    "    Returns the title of the dataset, based on the file name\n",
    "    \n",
    "    INPUTS:\n",
    "        file_name - the file name as a string\n",
    "    \n",
    "    OUTPUTS:\n",
    "        dataset_title - the dataset title as a string\n",
    "        \n",
    "    \"\"\"\n",
    "    \n",
    "    dataset_title = file_name.replace(\"_\", \" \").replace(\".csv\", \"\").title()\n",
    "    \n",
    "    return dataset_title"
   ]
  },
  {
   "cell_type": "code",
   "execution_count": 4,
   "id": "d95fc8a1",
   "metadata": {},
   "outputs": [],
   "source": [
    "def add_dataset_triples(file_name:str, dataset_uri:str, graph: rdflib.Graph) -> rdflib.Graph:\n",
    "    \"\"\"\n",
    "    add_dataset_triples\n",
    "    \n",
    "    Adds the dataset layer triples to the graph\n",
    "    \n",
    "    INPUTS:\n",
    "        input_df - the input CSV in a pandas dataframe format\n",
    "        \n",
    "    OUTPUTS:\n",
    "        graph - the graph with the appended dataset layer triples\n",
    "        \n",
    "    \"\"\"\n",
    "    \n",
    "    graph.add((URIRef(dataset_uri), RDF.type, DSV.Dataset))\n",
    "    graph.add((URIRef(dataset_uri), DCTERMS.title, Literal(create_dataset_title(file_name))))\n",
    "    \n",
    "    return graph"
   ]
  },
  {
   "cell_type": "code",
   "execution_count": 5,
   "id": "adc6b7f0",
   "metadata": {},
   "outputs": [],
   "source": [
    "def create_dataset_schema_uri(dataset_uri: str) -> str:\n",
    "    \"\"\"\n",
    "    create_dataset_schema_uri\n",
    "    \n",
    "    Returns a 'made-up' URI for the dataset schema\n",
    "    \n",
    "    INPUTS:\n",
    "        dataset_uri - the URI of the dataset as a string\n",
    "        \n",
    "    OUTPUTS:\n",
    "        dataset_schema_uri - the URI of the dataset schema as a string\n",
    "        \n",
    "    \"\"\"\n",
    "    \n",
    "    dataset_schema_uri = dataset_uri + \"DatasetSchema\"\n",
    "    \n",
    "    return dataset_schema_uri"
   ]
  },
  {
   "cell_type": "code",
   "execution_count": 6,
   "id": "5446d7a8",
   "metadata": {},
   "outputs": [],
   "source": [
    "def add_dataset_schema_triples(dataset_uri:str, dataset_schema_uri:str, graph: rdflib.Graph) -> rdflib.Graph:\n",
    "    \"\"\"\n",
    "    add_dataset_schema_triples\n",
    "    \n",
    "    Adds the dataset schema triples to the graph \n",
    "    \n",
    "    INPUTS:\n",
    "        dataset_uri - the URI of the dataset as a string\n",
    "        dataset_schema_uri - the URI of the dataset schema as a string\n",
    "        \n",
    "    OUTPUTS:\n",
    "        graph - the graph with the appended dataset schema triples\n",
    "        \n",
    "    \"\"\"\n",
    "    \n",
    "    graph.add((URIRef(dataset_uri), DSV.datasetSchema, URIRef(dataset_schema_uri)))\n",
    "    graph.add((URIRef(dataset_schema_uri), RDF.type, DSV.DatasetSchema))\n",
    "    \n",
    "    return graph"
   ]
  },
  {
   "cell_type": "code",
   "execution_count": 7,
   "id": "affeb71d",
   "metadata": {},
   "outputs": [],
   "source": [
    "def add_dataset_structural_triples(dataset_uri:str, dataset_schema_uri: str, graph: rdflib.Graph) :\n",
    "    \"\"\"\n",
    "    \"\"\"\n",
    "    \n",
    "    add_dataset_schema_triples(dataset_uri, dataset_schema_uri, graph)\n",
    "    \n",
    "    return graph"
   ]
  },
  {
   "cell_type": "code",
   "execution_count": 8,
   "id": "829b3b7d",
   "metadata": {},
   "outputs": [],
   "source": [
    "def make_dataset_statistics_uri(dataset_uri:str) -> str:\n",
    "    \"\"\"\n",
    "    \"\"\"\n",
    "    \n",
    "    dataset_statistics_uri = dataset_uri + \"summary-statistics/\"\n",
    "    \n",
    "    return dataset_statistics_uri"
   ]
  },
  {
   "cell_type": "code",
   "execution_count": 9,
   "id": "29a2a4fb",
   "metadata": {},
   "outputs": [],
   "source": [
    "def calculate_number_of_rows_and_columns(input_df: pd.DataFrame) -> (int, int):\n",
    "    \"\"\"\n",
    "    \"\"\"\n",
    "    \n",
    "    number_of_rows, number_of_columns = input_df.shape\n",
    "    \n",
    "    return number_of_rows, number_of_columns"
   ]
  },
  {
   "cell_type": "code",
   "execution_count": 10,
   "id": "724e8e35",
   "metadata": {},
   "outputs": [],
   "source": [
    "def calculate_dataset_completeness(input_df: pd.DataFrame) -> float:\n",
    "    \"\"\"\n",
    "    \"\"\"\n",
    "    \n",
    "    dataset_completeness = round(((input_df.size - (input_df.isna().sum().sum()))/input_df.size), 2)\n",
    "    \n",
    "    return dataset_completeness"
   ]
  },
  {
   "cell_type": "code",
   "execution_count": 11,
   "id": "8cb29894",
   "metadata": {},
   "outputs": [],
   "source": [
    "def add_dataset_statistical_triples(input_df: pd.DataFrame, dataset_uri:str, graph: rdflib.Graph) :\n",
    "    \"\"\"\n",
    "    \"\"\"\n",
    "    \n",
    "    dataset_statistics_uri = make_dataset_statistics_uri(dataset_uri)                                                    \n",
    "    graph.add((URIRef(dataset_uri), DSV.summaryStatistics, URIRef(dataset_statistics_uri)))\n",
    "    \n",
    "    number_of_rows, number_of_columns = calculate_number_of_rows_and_columns(input_df)\n",
    "    graph.add((URIRef(dataset_statistics_uri), DSV.numberOfRows, Literal(number_of_rows)))\n",
    "    graph.add((URIRef(dataset_statistics_uri), DSV.numberOfColumns, Literal(number_of_columns)))\n",
    "    \n",
    "    dataset_completeness = calculate_dataset_completeness(input_df)\n",
    "    graph.add((URIRef(dataset_statistics_uri), DSV.datasetCompleteness, Literal(dataset_completeness)))\n",
    "    \n",
    "    return graph"
   ]
  },
  {
   "cell_type": "code",
   "execution_count": 12,
   "id": "f5995e90",
   "metadata": {},
   "outputs": [],
   "source": [
    "def add_dataset_semantic_triples(input_df: pd.DataFrame, dataset_uri:str, graph: rdflib.Graph) :\n",
    "    \"\"\"\n",
    "    \"\"\"\n",
    "    \n",
    "    return graph"
   ]
  },
  {
   "cell_type": "code",
   "execution_count": 13,
   "id": "1c9d9121",
   "metadata": {},
   "outputs": [],
   "source": [
    "def add_dataset_level_metadata(input_df: pd.DataFrame, file_name: str, dataset_uri:str, dataset_schema_uri:str, graph: rdflib.Graph) :\n",
    "    \"\"\"\n",
    "    \"\"\"\n",
    "        \n",
    "    add_dataset_triples(file_name, dataset_uri, graph)\n",
    "    \n",
    "    add_dataset_structural_triples(dataset_uri, dataset_schema_uri, graph)\n",
    "    \n",
    "    add_dataset_statistical_triples(input_df, dataset_uri, graph)\n",
    "    \n",
    "    add_dataset_semantic_triples(input_df, dataset_uri, graph)\n",
    "    \n",
    "    return graph"
   ]
  },
  {
   "cell_type": "code",
   "execution_count": 14,
   "id": "5a256cb6",
   "metadata": {},
   "outputs": [],
   "source": [
    "def make_column_uri(column_header: str, dataset_uri: str) -> str:\n",
    "    \"\"\"\n",
    "    \"\"\"\n",
    "    \n",
    "    column_uri = dataset_uri + \"column/\" + (hashlib.md5(column_header.encode())).hexdigest()\n",
    "    \n",
    "    return column_uri"
   ]
  },
  {
   "cell_type": "code",
   "execution_count": 15,
   "id": "4446e3a1",
   "metadata": {},
   "outputs": [],
   "source": [
    "def add_column_triples(dataset_schema_uri: str, column_uri: str, column_header: str, graph: rdflib.Graph) -> rdflib.Graph:\n",
    "    \"\"\"\n",
    "    add_column_triples\n",
    "    \n",
    "    Adds the dataset schema triples to the graph \n",
    "    \n",
    "    INPUTS:\n",
    "        dataset_schema_uri - the URI of the dataset schema as a string\n",
    "        input_df - the input CSV in a pandas dataframe format\n",
    "        \n",
    "    OUTPUTS:\n",
    "        graph - the graph with the appended column triples\n",
    "        \n",
    "    \"\"\"\n",
    "        \n",
    "    graph.add((URIRef(dataset_schema_uri), DSV.column, URIRef(column_uri)))\n",
    "    graph.add((URIRef(column_uri), RDF.type, DSV.Column))\n",
    "    graph.add((URIRef(column_uri), RDFS.label, Literal(column_header)))\n",
    "    \n",
    "    return graph"
   ]
  },
  {
   "cell_type": "code",
   "execution_count": 16,
   "id": "89eb80bf",
   "metadata": {},
   "outputs": [],
   "source": [
    "def make_column_statistics_uri(column_uri:str):\n",
    "    \"\"\"\n",
    "    \"\"\"\n",
    "    \n",
    "    column_statistics_uri = column_uri + \"/summary-statistics/\"\n",
    "    \n",
    "    return column_statistics_uri"
   ]
  },
  {
   "cell_type": "code",
   "execution_count": 17,
   "id": "18a789df",
   "metadata": {},
   "outputs": [],
   "source": [
    "def calculate_column_completeness(input_df:pd.DataFrame, column_header:str) -> float:\n",
    "    \"\"\"\n",
    "    \"\"\"\n",
    "    \n",
    "    column_completeness = (len(input_df[column_header])-input_df[column_header].isna().sum())/len(input_df[column_header])\n",
    "    \n",
    "    return column_completeness"
   ]
  },
  {
   "cell_type": "code",
   "execution_count": 18,
   "id": "a5841ebb",
   "metadata": {},
   "outputs": [],
   "source": [
    "def calculate_column_min_max(input_df:pd.DataFrame, column:str) :\n",
    "    \"\"\"\n",
    "    \"\"\"\n",
    "    \n",
    "    return"
   ]
  },
  {
   "cell_type": "code",
   "execution_count": 19,
   "id": "77f320bb",
   "metadata": {},
   "outputs": [],
   "source": [
    "def add_column_statistical_triples(column_uri:str, input_df: pd.DataFrame, column_header: str, graph: rdflib.Graph):\n",
    "    \"\"\"\n",
    "    \"\"\"\n",
    "    \n",
    "    column_statistics_uri = make_column_statistics_uri(column_uri)                                                   \n",
    "    graph.add((URIRef(column_uri), DSV.summaryStatistics, URIRef(column_statistics_uri)))\n",
    "    \n",
    "    column_completeness = calculate_column_completeness(input_df, column_header)\n",
    "    graph.add((URIRef(column_statistics_uri), DSV.columnCompleteness, Literal(column_completeness)))\n",
    "    \n",
    "    return graph"
   ]
  },
  {
   "cell_type": "code",
   "execution_count": 20,
   "id": "bbed556e",
   "metadata": {},
   "outputs": [],
   "source": [
    "def make_column_property_uri(dataset_uri: str, column_header: str) -> str:\n",
    "    \"\"\"\n",
    "    \"\"\"\n",
    "    \n",
    "    column_property_uri = dataset_uri + \"properties-dictionary/\" + (hashlib.md5(column_header.encode())).hexdigest()\n",
    "    \n",
    "    return column_property_uri"
   ]
  },
  {
   "cell_type": "code",
   "execution_count": 21,
   "id": "8368d10e",
   "metadata": {},
   "outputs": [],
   "source": [
    "def add_column_property_triples(dataset_uri: str, column_header: str, column_uri: str, graph: rdflib.Graph):\n",
    "    \"\"\"\n",
    "    \"\"\"\n",
    "    \n",
    "    column_property_uri = make_column_property_uri(dataset_uri, column_header)\n",
    "        \n",
    "    graph.add((URIRef(column_uri), DSV.columnProperty, URIRef(column_property_uri)))\n",
    "        \n",
    "    return graph"
   ]
  },
  {
   "cell_type": "code",
   "execution_count": 22,
   "id": "f36bc7cf",
   "metadata": {},
   "outputs": [],
   "source": [
    "def add_column_semantic_triples(dataset_uri: str, column_header:str, column_uri:str, graph: rdflib.Graph) :\n",
    "    \"\"\"\n",
    "    \"\"\"\n",
    "    \n",
    "    add_column_property_triples(dataset_uri, column_header, column_uri, graph)\n",
    "    \n",
    "    return graph"
   ]
  },
  {
   "cell_type": "code",
   "execution_count": 23,
   "id": "94a7016d",
   "metadata": {},
   "outputs": [],
   "source": [
    "def add_variable_level_metadata(dataset_schema_uri: str, column_uri: str, input_df: pd.DataFrame, column_header: str, dataset_uri: str, graph: rdflib.Graph) :\n",
    "    \"\"\"\n",
    "    \"\"\"\n",
    "    \n",
    "    add_column_triples(dataset_schema_uri, column_uri, column_header, graph)\n",
    "    \n",
    "    add_column_statistical_triples(column_uri, input_df, column_header, graph)\n",
    "    \n",
    "    add_column_semantic_triples(dataset_uri, column_header, column_uri, graph)\n",
    "    \n",
    "    return graph"
   ]
  },
  {
   "cell_type": "code",
   "execution_count": 24,
   "id": "811f7365",
   "metadata": {},
   "outputs": [],
   "source": [
    "def add_triples_to_graph(file_name: str, input_df: pd.DataFrame, graph: rdflib.Graph):\n",
    "    \"\"\"\n",
    "    \"\"\"\n",
    "    \n",
    "    dataset_uri = create_dataset_uri(file_name)\n",
    "    dataset_schema_uri = create_dataset_schema_uri(dataset_uri)\n",
    "    \n",
    "    add_dataset_level_metadata(input_df, file_name, dataset_uri, dataset_schema_uri, graph)\n",
    "    \n",
    "    for column_header in input_df.columns:\n",
    "        \n",
    "        column_uri = make_column_uri(column_header, dataset_uri)\n",
    "        add_variable_level_metadata(dataset_schema_uri, column_uri, input_df, column_header, dataset_uri, graph)\n",
    "    \n",
    "    return graph"
   ]
  },
  {
   "cell_type": "code",
   "execution_count": 25,
   "id": "5a926180",
   "metadata": {},
   "outputs": [],
   "source": [
    "def transform_csv2graph(directory_path:str, file_name:str) :\n",
    "    \"\"\"\n",
    "    transform_csv2graph\n",
    "    \n",
    "    Returns a graph representation of the input CSV\n",
    "    \n",
    "    INPUTS:\n",
    "        input_df - the input CSV in a pandas dataframe format\n",
    "    \n",
    "    OUTPUTS:\n",
    "        \n",
    "    \"\"\"\n",
    "\n",
    "    graph = Graph()\n",
    "    \n",
    "    # namespace binding\n",
    "    graph.bind(\"skos\", SKOS)\n",
    "    graph.bind(\"rdf\", RDF)\n",
    "    graph.bind(\"xsd\", XSD)\n",
    "    graph.bind(\"dcat\", DCAT)\n",
    "    graph.bind(\"dsv\", DSV)\n",
    "\n",
    "    # read csv file as a pandas dataframe\n",
    "    input_csv = os.path.join(directory_path, file_name)\n",
    "    input_df = pd.read_csv(input_csv)\n",
    "\n",
    "    # add triples to graph\n",
    "    add_triples_to_graph(file_name, input_df, graph)\n",
    "    \n",
    "    # create output folder\n",
    "    output_folder = \"./csv2graph-output\"\n",
    "    if not os.path.exists(output_folder):\n",
    "        os.makedirs(output_folder)\n",
    "    \n",
    "    # write graph to output file\n",
    "    output_file_name = file_name.replace(\".csv\", \"\") + \"-output.ttl\"\n",
    "    output_ttl_file = graph.serialize(destination=(output_file_name))\n",
    "    shutil.move(output_file_name, output_folder + \"/\" + output_file_name)\n",
    "    \n",
    "    return"
   ]
  },
  {
   "cell_type": "code",
   "execution_count": null,
   "id": "9f83a313",
   "metadata": {},
   "outputs": [],
   "source": []
  },
  {
   "cell_type": "code",
   "execution_count": 26,
   "id": "e05a9678",
   "metadata": {},
   "outputs": [],
   "source": [
    "# path to directory\n",
    "directory_path = './test-data'\n",
    "\n",
    "# name for test file\n",
    "test_file_name = 'workforce_management_information_0.csv' ## FOR TESTING\n",
    "\n",
    "# namespace definition\n",
    "DSV = Namespace(\"https://w3id.org/dsv-ontology#\") # DataSet-Variable Ontology Namespace\n",
    "\n",
    "# iterate through input csv folder\n",
    "for file_name in os.listdir(directory_path):\n",
    "    \n",
    "    transform_csv2graph(directory_path, file_name)"
   ]
  },
  {
   "cell_type": "code",
   "execution_count": null,
   "id": "26eaccbb",
   "metadata": {},
   "outputs": [],
   "source": []
  }
 ],
 "metadata": {
  "kernelspec": {
   "display_name": "Python 3 (ipykernel)",
   "language": "python",
   "name": "python3"
  },
  "language_info": {
   "codemirror_mode": {
    "name": "ipython",
    "version": 3
   },
   "file_extension": ".py",
   "mimetype": "text/x-python",
   "name": "python",
   "nbconvert_exporter": "python",
   "pygments_lexer": "ipython3",
   "version": "3.10.12"
  }
 },
 "nbformat": 4,
 "nbformat_minor": 5
}
